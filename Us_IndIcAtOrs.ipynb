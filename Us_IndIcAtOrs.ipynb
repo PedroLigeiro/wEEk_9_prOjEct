{
 "cells": [
  {
   "cell_type": "code",
   "execution_count": null,
   "id": "99d3725c",
   "metadata": {},
   "outputs": [],
   "source": [
    "import pandas as pd\n",
    "pd.set_option(\"display.max_columns\", None)\n",
    "pd.set_option(\"display.max_rows\", None)\n"
   ]
  },
  {
   "cell_type": "code",
   "execution_count": null,
   "id": "08b5b46b",
   "metadata": {},
   "outputs": [],
   "source": [
    "us_indicators = pd.read_csv(\"Us_IndIcAtOrs.csv\")\n"
   ]
  },
  {
   "cell_type": "code",
   "execution_count": null,
   "id": "1b5f51e8",
   "metadata": {
    "scrolled": false
   },
   "outputs": [],
   "source": [
    "us_indicators\n"
   ]
  },
  {
   "cell_type": "code",
   "execution_count": null,
   "id": "0431bc9e",
   "metadata": {},
   "outputs": [],
   "source": [
    "us_indicators.drop([1,3,5,6,7,8,9,12,14,16,17,18,25,29,30,31,33,34,36,37,39,44,45,46,47,48], axis=0, inplace=True)\n"
   ]
  },
  {
   "cell_type": "code",
   "execution_count": null,
   "id": "aaa7bfd1",
   "metadata": {},
   "outputs": [],
   "source": [
    "#us_indicators\n"
   ]
  },
  {
   "cell_type": "code",
   "execution_count": null,
   "id": "cb7b6a9a",
   "metadata": {},
   "outputs": [],
   "source": [
    "us_indicators = us_indicators.rename(columns={\"Series Name\": \"Year\"})\n"
   ]
  },
  {
   "cell_type": "code",
   "execution_count": null,
   "id": "1c913260",
   "metadata": {
    "scrolled": false
   },
   "outputs": [],
   "source": [
    "#us_indicators\n"
   ]
  },
  {
   "cell_type": "code",
   "execution_count": null,
   "id": "d20e619a",
   "metadata": {},
   "outputs": [],
   "source": [
    "us_indicators.reset_index(drop=True, inplace=True)\n"
   ]
  },
  {
   "cell_type": "code",
   "execution_count": null,
   "id": "5fdd138b",
   "metadata": {
    "scrolled": false
   },
   "outputs": [],
   "source": [
    "#us_indicators\n"
   ]
  },
  {
   "cell_type": "code",
   "execution_count": null,
   "id": "5f553c00",
   "metadata": {},
   "outputs": [],
   "source": [
    "us_indicators = us_indicators.T\n"
   ]
  },
  {
   "cell_type": "code",
   "execution_count": null,
   "id": "a345e586",
   "metadata": {
    "scrolled": false
   },
   "outputs": [],
   "source": [
    "#us_indicators\n"
   ]
  },
  {
   "cell_type": "code",
   "execution_count": null,
   "id": "c8589779",
   "metadata": {},
   "outputs": [],
   "source": [
    "us_indicators.reset_index(drop=False, inplace=True)\n"
   ]
  },
  {
   "cell_type": "code",
   "execution_count": null,
   "id": "0dcb58e5",
   "metadata": {
    "scrolled": false
   },
   "outputs": [],
   "source": [
    "#us_indicators\n"
   ]
  },
  {
   "cell_type": "code",
   "execution_count": null,
   "id": "dccaab61",
   "metadata": {},
   "outputs": [],
   "source": [
    "us_indicators.columns = us_indicators.iloc[0]\n"
   ]
  },
  {
   "cell_type": "code",
   "execution_count": null,
   "id": "c1723093",
   "metadata": {
    "scrolled": false
   },
   "outputs": [],
   "source": [
    "#us_indicators\n"
   ]
  },
  {
   "cell_type": "code",
   "execution_count": null,
   "id": "7a6b6cdf",
   "metadata": {},
   "outputs": [],
   "source": [
    "us_indicators.drop([0,1,2,3,4,5,6,7,8,9,10,11,12,63,64,65], axis=0, inplace=True)\n"
   ]
  },
  {
   "cell_type": "code",
   "execution_count": null,
   "id": "506862ab",
   "metadata": {
    "scrolled": false
   },
   "outputs": [],
   "source": [
    "#us_indicators\n"
   ]
  },
  {
   "cell_type": "code",
   "execution_count": null,
   "id": "0dcc2d4c",
   "metadata": {},
   "outputs": [],
   "source": [
    "us_indicators.reset_index(drop=True, inplace=True)\n"
   ]
  },
  {
   "cell_type": "code",
   "execution_count": null,
   "id": "cc0df243",
   "metadata": {},
   "outputs": [],
   "source": [
    "#us_indicators\n"
   ]
  },
  {
   "cell_type": "code",
   "execution_count": null,
   "id": "5a74b1a7",
   "metadata": {},
   "outputs": [],
   "source": [
    "us_indicators = us_indicators.bfill(axis=0)\n"
   ]
  },
  {
   "cell_type": "code",
   "execution_count": null,
   "id": "44ad1aa4",
   "metadata": {},
   "outputs": [],
   "source": [
    "#us_indicators\n"
   ]
  },
  {
   "cell_type": "code",
   "execution_count": null,
   "id": "07690759",
   "metadata": {},
   "outputs": [],
   "source": [
    "us_indicators = us_indicators.ffill(axis=0)\n"
   ]
  },
  {
   "cell_type": "code",
   "execution_count": null,
   "id": "b0cb35ef",
   "metadata": {},
   "outputs": [],
   "source": [
    "#us_indicators\n"
   ]
  },
  {
   "cell_type": "code",
   "execution_count": null,
   "id": "630593d9",
   "metadata": {},
   "outputs": [],
   "source": [
    "us_indicators[\"Migration (% of population)\"] = (us_indicators[\"Net migration\"]*100)/us_indicators[\"Population, total\"]\n"
   ]
  },
  {
   "cell_type": "code",
   "execution_count": null,
   "id": "b7a269e2",
   "metadata": {},
   "outputs": [],
   "source": [
    "#us_indicators\n"
   ]
  },
  {
   "cell_type": "code",
   "execution_count": null,
   "id": "62e81f38",
   "metadata": {},
   "outputs": [],
   "source": [
    "us_indicators = us_indicators.iloc[:,[0,20,1,24,2,3,4,5,6,7,8,9,10,11,12,13,14,15,16,17,18,19,21,22,23]]\n"
   ]
  },
  {
   "cell_type": "code",
   "execution_count": null,
   "id": "ca660417",
   "metadata": {},
   "outputs": [],
   "source": [
    "#us_indicators\n"
   ]
  },
  {
   "cell_type": "code",
   "execution_count": null,
   "id": "ceaef41c",
   "metadata": {},
   "outputs": [],
   "source": [
    "us_indicators.drop([\"Population, total\", \"Net migration\"], axis=1, inplace=True)\n"
   ]
  },
  {
   "cell_type": "code",
   "execution_count": null,
   "id": "55d7b847",
   "metadata": {},
   "outputs": [],
   "source": [
    "us_indicators\n"
   ]
  },
  {
   "cell_type": "code",
   "execution_count": null,
   "id": "b57f75ef",
   "metadata": {},
   "outputs": [],
   "source": [
    "us_indicators_rep = us_indicators.drop([8,9,10,11,24,25,26,27,28,29,30,31,40,41,42,43,44,45,46,47], axis=0, inplace=False)\n"
   ]
  },
  {
   "cell_type": "code",
   "execution_count": null,
   "id": "30cb1b07",
   "metadata": {},
   "outputs": [],
   "source": [
    "#us_indicators_rep\n"
   ]
  },
  {
   "cell_type": "code",
   "execution_count": null,
   "id": "654dcb4d",
   "metadata": {},
   "outputs": [],
   "source": [
    "us_indicators_rep[\"Democratic Party=0, Republican Party=1\"] = 1\n"
   ]
  },
  {
   "cell_type": "code",
   "execution_count": null,
   "id": "c82cdc11",
   "metadata": {},
   "outputs": [],
   "source": [
    "us_indicators_rep\n"
   ]
  },
  {
   "cell_type": "code",
   "execution_count": null,
   "id": "107f0713",
   "metadata": {},
   "outputs": [],
   "source": [
    "us_indicators_rep.to_csv(\"Us_IndIcAtOrs_rEp.csv\", index=False)\n"
   ]
  },
  {
   "cell_type": "code",
   "execution_count": null,
   "id": "244e9773",
   "metadata": {},
   "outputs": [],
   "source": [
    "us_indicators_dem = us_indicators.drop([0,1,2,3,4,5,6,7,12,13,14,15,16,17,18,19,20,21,22,23,32,33,34,35,36,37,38,39,48,49], axis=0, inplace=False)\n"
   ]
  },
  {
   "cell_type": "code",
   "execution_count": null,
   "id": "c7e2b2be",
   "metadata": {},
   "outputs": [],
   "source": [
    "#us_indicators_dem\n"
   ]
  },
  {
   "cell_type": "code",
   "execution_count": null,
   "id": "70b7773e",
   "metadata": {},
   "outputs": [],
   "source": [
    "us_indicators_dem[\"Democratic Party=0, Republican Party=1\"] = 0\n"
   ]
  },
  {
   "cell_type": "code",
   "execution_count": null,
   "id": "bb0e9d29",
   "metadata": {},
   "outputs": [],
   "source": [
    "us_indicators_dem\n"
   ]
  },
  {
   "cell_type": "code",
   "execution_count": null,
   "id": "0a008db0",
   "metadata": {},
   "outputs": [],
   "source": [
    "us_indicators_dem.to_csv(\"Us_IndIcAtOrs_dem.csv\", index=False)\n"
   ]
  },
  {
   "cell_type": "code",
   "execution_count": null,
   "id": "ccec38d5",
   "metadata": {},
   "outputs": [],
   "source": [
    "us_indicators_rep_dem = pd.concat([us_indicators_rep, us_indicators_dem], axis=0)\n"
   ]
  },
  {
   "cell_type": "code",
   "execution_count": null,
   "id": "08b5e2f5",
   "metadata": {},
   "outputs": [],
   "source": [
    "#us_indicators_rep_dem\n"
   ]
  },
  {
   "cell_type": "code",
   "execution_count": null,
   "id": "4c3fcde6",
   "metadata": {},
   "outputs": [],
   "source": [
    "us_indicators_rep_dem.sort_index(axis=0, ascending=True, inplace=True)\n"
   ]
  },
  {
   "cell_type": "code",
   "execution_count": null,
   "id": "89b2a1e6",
   "metadata": {},
   "outputs": [],
   "source": [
    "#us_indicators_rep_dem\n"
   ]
  },
  {
   "cell_type": "code",
   "execution_count": null,
   "id": "3915f237",
   "metadata": {},
   "outputs": [],
   "source": [
    "us_indicators_rep_dem.set_index(\"Year\")\n"
   ]
  },
  {
   "cell_type": "code",
   "execution_count": null,
   "id": "e58fb4c8",
   "metadata": {},
   "outputs": [],
   "source": [
    "us_indicators_rep_dem.to_csv(\"Us_IndIcAtOrs_rEp_dEm.csv\", index=False)\n"
   ]
  },
  {
   "cell_type": "code",
   "execution_count": null,
   "id": "6ef151e1",
   "metadata": {},
   "outputs": [],
   "source": [
    "# rep_dem = pd.read_csv(\"Us_IndIcAtOrs_rEp_dEm.csv\")\n",
    "\n",
    "# rep_dem\n"
   ]
  },
  {
   "cell_type": "code",
   "execution_count": null,
   "id": "d5c6f482",
   "metadata": {},
   "outputs": [],
   "source": []
  }
 ],
 "metadata": {
  "kernelspec": {
   "display_name": "Python 3 (ipykernel)",
   "language": "python",
   "name": "python3"
  },
  "language_info": {
   "codemirror_mode": {
    "name": "ipython",
    "version": 3
   },
   "file_extension": ".py",
   "mimetype": "text/x-python",
   "name": "python",
   "nbconvert_exporter": "python",
   "pygments_lexer": "ipython3",
   "version": "3.11.5"
  }
 },
 "nbformat": 4,
 "nbformat_minor": 5
}
