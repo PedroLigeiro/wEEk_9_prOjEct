{
 "cells": [
  {
   "cell_type": "code",
   "execution_count": null,
   "id": "7d3833c2",
   "metadata": {},
   "outputs": [],
   "source": [
    "import pandas as pd\n",
    "\n",
    "pd.set_option(\"display.max_columns\", None)\n",
    "pd.set_option(\"display.max_rows\", None)\n"
   ]
  },
  {
   "cell_type": "code",
   "execution_count": null,
   "id": "ebf285f6",
   "metadata": {},
   "outputs": [],
   "source": [
    "rep_dem = pd.read_csv(\"Us_IndIcAtOrs_rEp_dEm.csv\")\n",
    "\n",
    "#rep_dem\n"
   ]
  },
  {
   "cell_type": "code",
   "execution_count": null,
   "id": "79768628",
   "metadata": {},
   "outputs": [],
   "source": [
    "rep_dem.set_index(\"Year\")\n"
   ]
  },
  {
   "cell_type": "code",
   "execution_count": null,
   "id": "340216bd",
   "metadata": {},
   "outputs": [],
   "source": [
    "X = rep_dem.drop([\"Year\", \"Democratic Party=0, Republican Party=1\"], axis = 1)\n",
    "y = rep_dem[\"Democratic Party=0, Republican Party=1\"]\n",
    "\n",
    "# X\n",
    "# y\n"
   ]
  },
  {
   "cell_type": "code",
   "execution_count": null,
   "id": "4a56f419",
   "metadata": {},
   "outputs": [],
   "source": [
    "import statsmodels.api as sm\n",
    "\n",
    "X_added_constant = sm.add_constant(X)\n",
    "\n",
    "X_added_constant\n",
    "\n",
    "model = sm.OLS(y, X_added_constant).fit()\n",
    "\n",
    "model.summary()\n"
   ]
  },
  {
   "cell_type": "code",
   "execution_count": null,
   "id": "27ff181e",
   "metadata": {},
   "outputs": [],
   "source": [
    "# X = rep_dem.drop([\"Year\", \"Inflation, GDP deflator (annual %)\", \"Democratic Party=0, Republican Party=1\"], axis = 1)\n",
    "# X_added_constant = sm.add_constant(X)\n",
    "\n",
    "# X_added_constant\n",
    "\n",
    "# model = sm.OLS(y, X_added_constant).fit()\n",
    "\n",
    "# model.summary()\n"
   ]
  },
  {
   "cell_type": "code",
   "execution_count": null,
   "id": "193a0331",
   "metadata": {},
   "outputs": [],
   "source": [
    "# import seaborn as sns\n",
    "# import matplotlib.pyplot as plt\n",
    "\n",
    "# correlation_matrix = X.corr()\n",
    "# f, ax = plt.subplots(figsize=(21, 21))\n",
    "# ax = sns.heatmap(correlation_matrix, annot=True)\n",
    "\n",
    "# plt.show()\n"
   ]
  },
  {
   "cell_type": "code",
   "execution_count": null,
   "id": "c95d01f6",
   "metadata": {},
   "outputs": [],
   "source": [
    "from sklearn.model_selection import train_test_split\n",
    "\n",
    "X_train, X_test, y_train, y_test = train_test_split(X, y, train_size=0.7, random_state=13)\n"
   ]
  },
  {
   "cell_type": "code",
   "execution_count": null,
   "id": "3de56021",
   "metadata": {},
   "outputs": [],
   "source": [
    "# from sklearn.preprocessing import StandardScaler\n",
    "\n",
    "# X_train_standard_fitted = StandardScaler().fit(X_train)\n",
    "# X_train_scaled = pd.DataFrame(X_train_standard_fitted.transform(X_train), columns=X.columns)\n",
    "# X_test_scaled = pd.DataFrame(X_train_standard_fitted.transform(X_test), columns=X.columns)\n",
    "\n",
    "# X_train_scaled\n",
    "# X_test_scaled\n",
    "\n",
    "# y_train = y_train.reset_index(drop=True)\n",
    "# y_test = y_test.reset_index(drop=True)\n",
    "\n",
    "# y_train\n",
    "# y_test\n"
   ]
  },
  {
   "cell_type": "code",
   "execution_count": null,
   "id": "6ce6fe7e",
   "metadata": {},
   "outputs": [],
   "source": [
    "from sklearn.preprocessing import MinMaxScaler\n",
    "\n",
    "X_train_minmax_fitted = MinMaxScaler().fit(X_train)\n",
    "X_train_scaled = pd.DataFrame(X_train_minmax_fitted.transform(X_train), columns=X.columns)\n",
    "X_test_scaled = pd.DataFrame(X_train_minmax_fitted.transform(X_test), columns=X.columns)\n",
    "\n",
    "# X_train_scaled\n",
    "# X_test_scaled\n",
    "\n",
    "y_train = y_train.reset_index(drop=True)\n",
    "y_test = y_test.reset_index(drop=True)\n",
    "\n",
    "# y_train\n",
    "# y_test\n"
   ]
  },
  {
   "cell_type": "code",
   "execution_count": null,
   "id": "6bc67c58",
   "metadata": {},
   "outputs": [],
   "source": [
    "from sklearn.linear_model import LogisticRegression\n",
    "\n",
    "LR_model = LogisticRegression(random_state=13, solver=\"lbfgs\")\n",
    "LR_model_scaled = LR_model.fit(X_train_scaled, y_train)\n",
    "\n",
    "LR_model_scaled.score(X_test_scaled, y_test)\n"
   ]
  },
  {
   "cell_type": "code",
   "execution_count": null,
   "id": "5ba4ee49",
   "metadata": {},
   "outputs": [],
   "source": [
    "from sklearn.metrics import precision_score\n",
    "from sklearn.metrics import recall_score\n",
    "from sklearn.metrics import f1_score\n",
    "\n",
    "prediction = LR_model_scaled.predict(X_test_scaled)\n",
    "\n",
    "print(\"prediction_precision: \", precision_score(y_test, prediction))\n",
    "print(\"prediction_recall: \", recall_score(y_test, prediction))\n",
    "print(\"prediction_f1: \", f1_score(y_test, prediction))\n"
   ]
  },
  {
   "cell_type": "code",
   "execution_count": null,
   "id": "34fa81df",
   "metadata": {},
   "outputs": [],
   "source": [
    "from sklearn.metrics import confusion_matrix\n",
    "\n",
    "confusion_matrix(y_test, prediction)\n"
   ]
  },
  {
   "cell_type": "code",
   "execution_count": null,
   "id": "f58c3772",
   "metadata": {},
   "outputs": [],
   "source": [
    "# X_y_train_concatenated = pd.concat([X_train_scaled, y_train], axis=1)\n",
    "\n",
    "# X_y_train_concatenated\n",
    "\n",
    "# rep = X_y_train_concatenated[X_y_train_concatenated[\"Democratic Party=0, Republican Party=1\"]==1]\n",
    "# dem = X_y_train_concatenated[X_y_train_concatenated[\"Democratic Party=0, Republican Party=1\"]==0]\n",
    "\n",
    "# display(rep.shape)\n",
    "# display(dem.shape)\n"
   ]
  },
  {
   "cell_type": "code",
   "execution_count": null,
   "id": "0bcc688d",
   "metadata": {},
   "outputs": [],
   "source": [
    "# from sklearn.utils import resample\n",
    "\n",
    "# dem_oversampled = resample(dem, replace=True, n_samples=len(rep), random_state=13)\n",
    "\n",
    "# display(rep.shape)\n",
    "# display(dem_oversampled.shape)\n",
    "\n",
    "# train_oversampled = pd.concat([rep, dem_oversampled], axis=0)\n",
    "# y_train_oversampled = train_oversampled[\"Democratic Party=0, Republican Party=1\"].copy()\n",
    "# X_train_oversampled = train_oversampled.drop(\"Democratic Party=0, Republican Party=1\", axis=1).copy()\n",
    "# LR_oversampled = LogisticRegression(random_state=13, solver=\"lbfgs\")\n",
    "# LR_oversampled.fit(X_train_oversampled, y_train_oversampled)\n",
    "# prediction_oversampled = LR_oversampled.predict(X_test_scaled)\n",
    "\n",
    "# print(\"oversampled_precision: \", precision_score(y_test, prediction_oversampled))\n",
    "# print(\"oversampled_recall: \", recall_score(y_test, prediction_oversampled))\n",
    "# print(\"oversampled_f1: \", f1_score(y_test, prediction_oversampled))\n"
   ]
  },
  {
   "cell_type": "code",
   "execution_count": null,
   "id": "11072f78",
   "metadata": {},
   "outputs": [],
   "source": [
    "# confusion_matrix(y_test, prediction_oversampled)\n"
   ]
  },
  {
   "cell_type": "code",
   "execution_count": null,
   "id": "0290367c",
   "metadata": {},
   "outputs": [],
   "source": [
    "# rep_undersampled = resample(rep, replace=False, n_samples=len(dem), random_state=13)\n",
    "\n",
    "# display(dem.shape)\n",
    "# display(rep_undersampled.shape)\n",
    "\n",
    "# train_undersampled = pd.concat([dem, rep_undersampled], axis=0)\n",
    "# y_train_undersampled = train_undersampled[\"Democratic Party=0, Republican Party=1\"].copy()\n",
    "# X_train_undersampled = train_undersampled.drop(\"Democratic Party=0, Republican Party=1\", axis=1).copy()\n",
    "# LR_undersampled = LogisticRegression(random_state=13, solver=\"lbfgs\")\n",
    "# LR_undersampled.fit(X_train_undersampled, y_train_undersampled)\n",
    "# prediction_undersampled = LR_undersampled.predict(X_test_scaled)\n",
    "\n",
    "# print(\"undersampled_precision: \", precision_score(y_test, prediction_undersampled))\n",
    "# print(\"undersampled_recall: \", recall_score(y_test, prediction_undersampled))\n",
    "# print(\"undersampled_f1: \", f1_score(y_test, prediction_undersampled))\n"
   ]
  },
  {
   "cell_type": "code",
   "execution_count": null,
   "id": "ddbed2b9",
   "metadata": {},
   "outputs": [],
   "source": [
    "# confusion_matrix(y_test, prediction_undersampled)\n"
   ]
  },
  {
   "cell_type": "code",
   "execution_count": null,
   "id": "7d5562d7",
   "metadata": {},
   "outputs": [],
   "source": [
    "# from imblearn.over_sampling import SMOTE\n",
    "\n",
    "# SMOTE_sampled = SMOTE(random_state=13, k_neighbors=7)\n",
    "# X_train_SMOTE, y_train_SMOTE = SMOTE_sampled.fit_resample(X_train_scaled, y_train)\n",
    "\n",
    "# X_train_SMOTE.shape\n",
    "\n",
    "# LR_SMOTE = LogisticRegression(random_state=13, solver=\"lbfgs\")\n",
    "# LR_SMOTE.fit(X_train_SMOTE, y_train_SMOTE)\n",
    "# prediction_SMOTE = LR_SMOTE.predict(X_test_scaled)\n",
    "\n",
    "# print(\"SMOTE_precision: \", precision_score(y_test, prediction_SMOTE))\n",
    "# print(\"SMOTE_recall: \", recall_score(y_test, prediction_SMOTE))\n",
    "# print(\"SMOTE_f1: \", f1_score(y_test, prediction_SMOTE))\n"
   ]
  },
  {
   "cell_type": "code",
   "execution_count": null,
   "id": "9360ab44",
   "metadata": {},
   "outputs": [],
   "source": [
    "# confusion_matrix(y_test, prediction_SMOTE)\n"
   ]
  },
  {
   "cell_type": "code",
   "execution_count": null,
   "id": "4597bc6a",
   "metadata": {},
   "outputs": [],
   "source": [
    "# from sklearn.tree import DecisionTreeClassifier\n",
    "\n",
    "# decision_tree = DecisionTreeClassifier(max_depth=5)\n",
    "# decision_tree.fit(X_train, y_train)\n",
    "\n",
    "# print(\"decision_tree_test data accuracy was: \", decision_tree.score(X_test, y_test))\n",
    "# print(\"decision_tree_train data accuracy was: \", decision_tree.score(X_train, y_train))\n",
    "\n",
    "# prediction_decision_tree = decision_tree.predict(X_test)\n",
    "\n",
    "# print(\"decision_tree_precision: \", precision_score(y_test, prediction_decision_tree))\n",
    "# print(\"decision_tree_recall: \", recall_score(y_test, prediction_decision_tree))\n",
    "# print(\"decision_tree_f1: \", f1_score(y_test, prediction_decision_tree))\n"
   ]
  },
  {
   "cell_type": "code",
   "execution_count": null,
   "id": "0ea31950",
   "metadata": {},
   "outputs": [],
   "source": [
    "# confusion_matrix(y_test, prediction_decision_tree)\n"
   ]
  },
  {
   "cell_type": "code",
   "execution_count": null,
   "id": "722d8070",
   "metadata": {},
   "outputs": [],
   "source": [
    "# from numpy import mean\n",
    "# from numpy import std\n",
    "# from sklearn.model_selection import KFold\n",
    "# from sklearn.model_selection import cross_val_score\n",
    "\n",
    "# cross_validation = KFold(n_splits=13, random_state=13, shuffle=True)\n",
    "# cross_validation_score = cross_val_score(LR_model_scaled, X, y, scoring=\"accuracy\", cv=cross_validation, n_jobs=-1)\n",
    "\n",
    "# print(\"Accuracy: %.3f (%.3f)\" % (mean(cross_validation_score), std(cross_validation_score)))\n"
   ]
  },
  {
   "cell_type": "code",
   "execution_count": null,
   "id": "97328647",
   "metadata": {},
   "outputs": [],
   "source": [
    "# from sklearn.model_selection import GridSearchCV\n",
    "\n",
    "# grid = {\"random_state\":[13]}\n",
    "# grid_search = GridSearchCV(estimator=LR_model_scaled, param_grid=grid, cv=cross_validation)\n",
    "# grid_search.fit(X_train_scaled, y_train)\n",
    "# grid_search.best_params_\n"
   ]
  },
  {
   "cell_type": "code",
   "execution_count": null,
   "id": "90ab354d",
   "metadata": {},
   "outputs": [],
   "source": [
    "# import pickle\n",
    "\n",
    "# pickle.dump(LR_model_scaled, open(\"Us_lr_mOdEl.p\", \"wb\"))\n"
   ]
  },
  {
   "cell_type": "code",
   "execution_count": null,
   "id": "f3511f28",
   "metadata": {},
   "outputs": [],
   "source": [
    "# X_test.to_pickle(\"rEp_dEm_x_tEst.p\")\n",
    "# y_test.to_pickle(\"rEp_dEm_y_tEst.p\")\n"
   ]
  },
  {
   "cell_type": "code",
   "execution_count": null,
   "id": "3523b5cc",
   "metadata": {},
   "outputs": [],
   "source": [
    "pt_LR_model = pickle.load(open(\"pt_lr_mOdEl.p\", \"rb\"))\n",
    "pt_LR_model.score(X_test, y_test)\n"
   ]
  },
  {
   "cell_type": "code",
   "execution_count": null,
   "id": "eee590db",
   "metadata": {},
   "outputs": [],
   "source": []
  }
 ],
 "metadata": {
  "kernelspec": {
   "display_name": "Python 3 (ipykernel)",
   "language": "python",
   "name": "python3"
  },
  "language_info": {
   "codemirror_mode": {
    "name": "ipython",
    "version": 3
   },
   "file_extension": ".py",
   "mimetype": "text/x-python",
   "name": "python",
   "nbconvert_exporter": "python",
   "pygments_lexer": "ipython3",
   "version": "3.11.5"
  }
 },
 "nbformat": 4,
 "nbformat_minor": 5
}
