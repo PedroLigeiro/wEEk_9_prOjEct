{
 "cells": [
  {
   "cell_type": "code",
   "execution_count": null,
   "id": "99d3725c",
   "metadata": {},
   "outputs": [],
   "source": [
    "import pandas as pd\n",
    "pd.set_option(\"display.max_columns\", None)\n",
    "pd.set_option(\"display.max_rows\", None)\n"
   ]
  },
  {
   "cell_type": "code",
   "execution_count": null,
   "id": "08b5b46b",
   "metadata": {},
   "outputs": [],
   "source": [
    "pt_indicators = pd.read_csv(\"pt_IndIcAtOrs.csv\")\n"
   ]
  },
  {
   "cell_type": "code",
   "execution_count": null,
   "id": "0a033d16",
   "metadata": {
    "scrolled": false
   },
   "outputs": [],
   "source": [
    "pt_indicators\n"
   ]
  },
  {
   "cell_type": "code",
   "execution_count": null,
   "id": "0431bc9e",
   "metadata": {},
   "outputs": [],
   "source": [
    "pt_indicators.drop([1,3,5,6,7,8,9,12,14,16,17,18,25,29,30,31,33,34,36,37,39,44,45,46,47,48], axis=0, inplace=True)\n"
   ]
  },
  {
   "cell_type": "code",
   "execution_count": null,
   "id": "809824e9",
   "metadata": {},
   "outputs": [],
   "source": [
    "#pt_indicators\n"
   ]
  },
  {
   "cell_type": "code",
   "execution_count": null,
   "id": "cb7b6a9a",
   "metadata": {},
   "outputs": [],
   "source": [
    "pt_indicators = pt_indicators.rename(columns={\"Series Name\": \"Year\"})\n"
   ]
  },
  {
   "cell_type": "code",
   "execution_count": null,
   "id": "0f39d794",
   "metadata": {},
   "outputs": [],
   "source": [
    "#pt_indicators\n"
   ]
  },
  {
   "cell_type": "code",
   "execution_count": null,
   "id": "d20e619a",
   "metadata": {},
   "outputs": [],
   "source": [
    "pt_indicators.reset_index(drop=True, inplace=True)\n"
   ]
  },
  {
   "cell_type": "code",
   "execution_count": null,
   "id": "3d0c984d",
   "metadata": {},
   "outputs": [],
   "source": [
    "#pt_indicators\n"
   ]
  },
  {
   "cell_type": "code",
   "execution_count": null,
   "id": "5f553c00",
   "metadata": {},
   "outputs": [],
   "source": [
    "pt_indicators = pt_indicators.T\n"
   ]
  },
  {
   "cell_type": "code",
   "execution_count": null,
   "id": "23fa8af3",
   "metadata": {},
   "outputs": [],
   "source": [
    "#pt_indicators\n"
   ]
  },
  {
   "cell_type": "code",
   "execution_count": null,
   "id": "c8589779",
   "metadata": {},
   "outputs": [],
   "source": [
    "pt_indicators.reset_index(drop=False, inplace=True)\n"
   ]
  },
  {
   "cell_type": "code",
   "execution_count": null,
   "id": "709ce891",
   "metadata": {},
   "outputs": [],
   "source": [
    "#pt_indicators\n"
   ]
  },
  {
   "cell_type": "code",
   "execution_count": null,
   "id": "dccaab61",
   "metadata": {},
   "outputs": [],
   "source": [
    "pt_indicators.columns = pt_indicators.iloc[0]\n"
   ]
  },
  {
   "cell_type": "code",
   "execution_count": null,
   "id": "6982877d",
   "metadata": {},
   "outputs": [],
   "source": [
    "#pt_indicators\n"
   ]
  },
  {
   "cell_type": "code",
   "execution_count": null,
   "id": "7a6b6cdf",
   "metadata": {},
   "outputs": [],
   "source": [
    "pt_indicators.drop([0,1,2,3,4,5,6,7,8,9,10,11,12,63,64,65], axis=0, inplace=True)\n"
   ]
  },
  {
   "cell_type": "code",
   "execution_count": null,
   "id": "dfd70b5a",
   "metadata": {},
   "outputs": [],
   "source": [
    "#pt_indicators\n"
   ]
  },
  {
   "cell_type": "code",
   "execution_count": null,
   "id": "0dcc2d4c",
   "metadata": {},
   "outputs": [],
   "source": [
    "pt_indicators.reset_index(drop=True, inplace=True)\n"
   ]
  },
  {
   "cell_type": "code",
   "execution_count": null,
   "id": "0000e4b8",
   "metadata": {},
   "outputs": [],
   "source": [
    "#pt_indicators\n"
   ]
  },
  {
   "cell_type": "code",
   "execution_count": null,
   "id": "5a74b1a7",
   "metadata": {},
   "outputs": [],
   "source": [
    "pt_indicators = pt_indicators.bfill(axis=0)\n"
   ]
  },
  {
   "cell_type": "code",
   "execution_count": null,
   "id": "284e8bea",
   "metadata": {},
   "outputs": [],
   "source": [
    "#pt_indicators\n"
   ]
  },
  {
   "cell_type": "code",
   "execution_count": null,
   "id": "07690759",
   "metadata": {},
   "outputs": [],
   "source": [
    "pt_indicators = pt_indicators.ffill(axis=0)\n"
   ]
  },
  {
   "cell_type": "code",
   "execution_count": null,
   "id": "2ebb29f5",
   "metadata": {},
   "outputs": [],
   "source": [
    "#pt_indicators\n"
   ]
  },
  {
   "cell_type": "code",
   "execution_count": null,
   "id": "7b198a81",
   "metadata": {},
   "outputs": [],
   "source": [
    "pt_indicators[\"Migration (% of population)\"] = (pt_indicators[\"Net migration\"]*100)/pt_indicators[\"Population, total\"]\n"
   ]
  },
  {
   "cell_type": "code",
   "execution_count": null,
   "id": "9c3c834c",
   "metadata": {},
   "outputs": [],
   "source": [
    "#pt_indicators\n"
   ]
  },
  {
   "cell_type": "code",
   "execution_count": null,
   "id": "b53e6833",
   "metadata": {},
   "outputs": [],
   "source": [
    "pt_indicators = pt_indicators.iloc[:,[0,20,1,24,2,3,4,5,6,7,8,9,10,11,12,13,14,15,16,17,18,19,21,22,23]]\n"
   ]
  },
  {
   "cell_type": "code",
   "execution_count": null,
   "id": "90ca62b2",
   "metadata": {},
   "outputs": [],
   "source": [
    "#pt_indicators\n"
   ]
  },
  {
   "cell_type": "code",
   "execution_count": null,
   "id": "67d7ad37",
   "metadata": {},
   "outputs": [],
   "source": [
    "pt_indicators.drop([\"Population, total\", \"Net migration\"], axis=1, inplace=True)\n"
   ]
  },
  {
   "cell_type": "code",
   "execution_count": null,
   "id": "e6a85a36",
   "metadata": {
    "scrolled": false
   },
   "outputs": [],
   "source": [
    "pt_indicators\n"
   ]
  },
  {
   "cell_type": "code",
   "execution_count": null,
   "id": "3bcb244b",
   "metadata": {},
   "outputs": [],
   "source": [
    "pt_indicators_psd = pt_indicators.drop([0,1,2,3,4,5,6,7,8,9,13,14,15,26,27,28,29,30,31,35,36,37,38,39,40,45,46,47,48,49], axis=0, inplace=False)\n"
   ]
  },
  {
   "cell_type": "code",
   "execution_count": null,
   "id": "29c854d2",
   "metadata": {},
   "outputs": [],
   "source": [
    "#pt_indicators_psd\n"
   ]
  },
  {
   "cell_type": "code",
   "execution_count": null,
   "id": "20ba02c7",
   "metadata": {},
   "outputs": [],
   "source": [
    "pt_indicators_psd[\"Socialist Party=0, Social Democratic Party=1\"] = 1\n"
   ]
  },
  {
   "cell_type": "code",
   "execution_count": null,
   "id": "31c10a7d",
   "metadata": {},
   "outputs": [],
   "source": [
    "pt_indicators_psd\n"
   ]
  },
  {
   "cell_type": "code",
   "execution_count": null,
   "id": "e17d81d4",
   "metadata": {},
   "outputs": [],
   "source": [
    "# pt_indicators_psd.to_csv(\"pt_IndIcAtOrs_psd.csv\", index=False)\n"
   ]
  },
  {
   "cell_type": "code",
   "execution_count": null,
   "id": "5d1efa6a",
   "metadata": {},
   "outputs": [],
   "source": [
    "pt_indicators_ps = pt_indicators.drop([0,1,2,3,4,5,10,11,12,16,17,18,19,20,21,22,23,24,25,32,33,34,41,42,43,44], axis=0, inplace=False)\n"
   ]
  },
  {
   "cell_type": "code",
   "execution_count": null,
   "id": "a8daa776",
   "metadata": {},
   "outputs": [],
   "source": [
    "#pt_indicators_ps\n"
   ]
  },
  {
   "cell_type": "code",
   "execution_count": null,
   "id": "cb5b11e3",
   "metadata": {},
   "outputs": [],
   "source": [
    "pt_indicators_ps[\"Socialist Party=0, Social Democratic Party=1\"] = 0\n"
   ]
  },
  {
   "cell_type": "code",
   "execution_count": null,
   "id": "2b855c19",
   "metadata": {},
   "outputs": [],
   "source": [
    "pt_indicators_ps\n"
   ]
  },
  {
   "cell_type": "code",
   "execution_count": null,
   "id": "944f717d",
   "metadata": {},
   "outputs": [],
   "source": [
    "# pt_indicators_ps.to_csv(\"pt_IndIcAtOrs_ps.csv\", index=False)\n"
   ]
  },
  {
   "cell_type": "code",
   "execution_count": null,
   "id": "9b799acb",
   "metadata": {},
   "outputs": [],
   "source": [
    "pt_indicators_psd_ps = pd.concat([pt_indicators_psd, pt_indicators_ps], axis=0)\n"
   ]
  },
  {
   "cell_type": "code",
   "execution_count": null,
   "id": "b7d01a35",
   "metadata": {},
   "outputs": [],
   "source": [
    "#pt_indicators_psd_ps\n"
   ]
  },
  {
   "cell_type": "code",
   "execution_count": null,
   "id": "a5b7f9a8",
   "metadata": {},
   "outputs": [],
   "source": [
    "pt_indicators_psd_ps.sort_index(axis=0, ascending=True, inplace=True)\n"
   ]
  },
  {
   "cell_type": "code",
   "execution_count": null,
   "id": "07197326",
   "metadata": {},
   "outputs": [],
   "source": [
    "#pt_indicators_psd_ps\n"
   ]
  },
  {
   "cell_type": "code",
   "execution_count": null,
   "id": "8caea8ea",
   "metadata": {},
   "outputs": [],
   "source": [
    "pt_indicators_psd_ps.set_index(\"Year\")\n"
   ]
  },
  {
   "cell_type": "code",
   "execution_count": null,
   "id": "317f3b76",
   "metadata": {},
   "outputs": [],
   "source": [
    "# pt_indicators_psd_ps.to_csv(\"pt_IndIcAtOrs_psd_ps.csv\", index=False)\n"
   ]
  },
  {
   "cell_type": "code",
   "execution_count": null,
   "id": "1d4eacd2",
   "metadata": {},
   "outputs": [],
   "source": [
    "X = pt_indicators_psd_ps.drop([\"Year\", \"Socialist Party=0, Social Democratic Party=1\"], axis = 1)\n",
    "y = pt_indicators_psd_ps[\"Socialist Party=0, Social Democratic Party=1\"]\n",
    "\n",
    "# X\n",
    "# y\n"
   ]
  },
  {
   "cell_type": "code",
   "execution_count": null,
   "id": "5d8ee9b3",
   "metadata": {},
   "outputs": [],
   "source": [
    "from sklearn.model_selection import train_test_split\n",
    "\n",
    "X_train, X_test, y_train, y_test = train_test_split(X, y, train_size=0.7, random_state=13)\n"
   ]
  },
  {
   "cell_type": "code",
   "execution_count": null,
   "id": "97ce2f04",
   "metadata": {},
   "outputs": [],
   "source": [
    "import pickle\n",
    "\n",
    "us_LR_model = pickle.load(open(\"Us_lr_mOdEl.p\", \"rb\"))\n",
    "us_LR_model.score(X_test, y_test)\n"
   ]
  },
  {
   "cell_type": "code",
   "execution_count": null,
   "id": "f9ffcd53",
   "metadata": {},
   "outputs": [],
   "source": [
    "# X_test.to_pickle(\"psd_ps_x_tEst.p\")\n",
    "# y_test.to_pickle(\"psd_ps_y_tEst.p\")\n"
   ]
  },
  {
   "cell_type": "code",
   "execution_count": null,
   "id": "c9d1d2ec",
   "metadata": {},
   "outputs": [],
   "source": [
    "from sklearn.preprocessing import MinMaxScaler\n",
    "\n",
    "X_train_minmax_fitted = MinMaxScaler().fit(X_train)\n",
    "X_train_scaled = pd.DataFrame(X_train_minmax_fitted.transform(X_train), columns=X.columns)\n",
    "X_test_scaled = pd.DataFrame(X_train_minmax_fitted.transform(X_test), columns=X.columns)\n",
    "\n",
    "# X_train_scaled\n",
    "# X_test_scaled\n",
    "\n",
    "y_train = y_train.reset_index(drop=True)\n",
    "y_test = y_test.reset_index(drop=True)\n",
    "\n",
    "# y_train\n",
    "# y_test\n"
   ]
  },
  {
   "cell_type": "code",
   "execution_count": null,
   "id": "01d780d8",
   "metadata": {},
   "outputs": [],
   "source": [
    "from sklearn.linear_model import LogisticRegression\n",
    "\n",
    "LR_model = LogisticRegression(random_state=13, solver=\"lbfgs\")\n",
    "LR_model_scaled = LR_model.fit(X_train_scaled, y_train)\n",
    "LR_model_scaled.score(X_test_scaled, y_test)\n"
   ]
  },
  {
   "cell_type": "code",
   "execution_count": null,
   "id": "18aa792f",
   "metadata": {},
   "outputs": [],
   "source": [
    "# pickle.dump(LR_model_scaled, open(\"pt_lr_mOdEl.p\", \"wb\"))\n"
   ]
  },
  {
   "cell_type": "code",
   "execution_count": null,
   "id": "2131f8f1",
   "metadata": {},
   "outputs": [],
   "source": []
  }
 ],
 "metadata": {
  "kernelspec": {
   "display_name": "Python 3 (ipykernel)",
   "language": "python",
   "name": "python3"
  },
  "language_info": {
   "codemirror_mode": {
    "name": "ipython",
    "version": 3
   },
   "file_extension": ".py",
   "mimetype": "text/x-python",
   "name": "python",
   "nbconvert_exporter": "python",
   "pygments_lexer": "ipython3",
   "version": "3.11.5"
  }
 },
 "nbformat": 4,
 "nbformat_minor": 5
}
