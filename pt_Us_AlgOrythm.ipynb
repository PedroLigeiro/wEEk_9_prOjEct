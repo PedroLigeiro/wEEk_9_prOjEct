{
 "cells": [
  {
   "cell_type": "code",
   "execution_count": null,
   "id": "2d5d11d2",
   "metadata": {},
   "outputs": [],
   "source": [
    "import pandas as pd\n",
    "\n",
    "pd.set_option(\"display.max_columns\", None)\n",
    "pd.set_option(\"display.max_rows\", None)\n"
   ]
  },
  {
   "cell_type": "code",
   "execution_count": null,
   "id": "c5e0d01a",
   "metadata": {},
   "outputs": [],
   "source": [
    "pt_indicators = pd.read_csv(\"pt_IndIcAtOrs_psd_ps.csv\")\n",
    "\n",
    "pt_indicators\n"
   ]
  },
  {
   "cell_type": "code",
   "execution_count": null,
   "id": "770760cd",
   "metadata": {},
   "outputs": [],
   "source": [
    "pt_indicators = pt_indicators.rename(columns={\"Socialist Party=0, Social Democratic Party=1\": \"Left=0, Right=1\"})\n",
    "\n",
    "# pt_indicators\n"
   ]
  },
  {
   "cell_type": "code",
   "execution_count": null,
   "id": "c80e222d",
   "metadata": {},
   "outputs": [],
   "source": [
    "us_indicators = pd.read_csv(\"Us_IndIcAtOrs_rEp_dEm.csv\")\n",
    "\n",
    "us_indicators\n"
   ]
  },
  {
   "cell_type": "code",
   "execution_count": null,
   "id": "66d352f8",
   "metadata": {},
   "outputs": [],
   "source": [
    "us_indicators = us_indicators.rename(columns={\"Democratic Party=0, Republican Party=1\": \"Left=0, Right=1\"})\n",
    "\n",
    "# us_indicators\n"
   ]
  },
  {
   "cell_type": "code",
   "execution_count": null,
   "id": "cd13a8db",
   "metadata": {
    "scrolled": false
   },
   "outputs": [],
   "source": [
    "pt_us_indicators = pd.concat([pt_indicators, us_indicators], axis=0)\n",
    "\n",
    "# pt_us_indicators\n"
   ]
  },
  {
   "cell_type": "code",
   "execution_count": null,
   "id": "87f3f6c1",
   "metadata": {
    "scrolled": false
   },
   "outputs": [],
   "source": [
    "pt_us_indicators.sort_values(\"Year\", axis=0, inplace=True, ignore_index=True)\n",
    "\n",
    "# pt_us_indicators\n"
   ]
  },
  {
   "cell_type": "code",
   "execution_count": null,
   "id": "3666a429",
   "metadata": {
    "scrolled": false
   },
   "outputs": [],
   "source": [
    "pt_us_indicators.set_index(\"Year\")\n"
   ]
  },
  {
   "cell_type": "code",
   "execution_count": null,
   "id": "6325a175",
   "metadata": {},
   "outputs": [],
   "source": [
    "X = pt_us_indicators.drop([\"Year\", \"Left=0, Right=1\"], axis = 1)\n",
    "y = pt_us_indicators[\"Left=0, Right=1\"]\n",
    "\n",
    "# X\n",
    "# y\n"
   ]
  },
  {
   "cell_type": "code",
   "execution_count": null,
   "id": "b047e713",
   "metadata": {},
   "outputs": [],
   "source": [
    "# import statsmodels.api as sm\n",
    "\n",
    "# X_added_constant = sm.add_constant(X)\n",
    "\n",
    "# X_added_constant\n",
    "\n",
    "# model = sm.OLS(y, X_added_constant).fit()\n",
    "\n",
    "# model.summary()\n"
   ]
  },
  {
   "cell_type": "code",
   "execution_count": null,
   "id": "b6bbf149",
   "metadata": {},
   "outputs": [],
   "source": [
    "from sklearn.model_selection import train_test_split\n",
    "\n",
    "X_train, X_test, y_train, y_test = train_test_split(X, y, train_size=0.7, random_state=13)\n"
   ]
  },
  {
   "cell_type": "code",
   "execution_count": null,
   "id": "c21111dd",
   "metadata": {},
   "outputs": [],
   "source": [
    "# from sklearn.preprocessing import MinMaxScaler\n",
    "\n",
    "# X_train_minmax_fitted = MinMaxScaler().fit(X_train)\n",
    "# X_train_scaled = pd.DataFrame(X_train_minmax_fitted.transform(X_train), columns=X.columns)\n",
    "# X_test_scaled = pd.DataFrame(X_train_minmax_fitted.transform(X_test), columns=X.columns)\n",
    "\n",
    "# # X_train_scaled\n",
    "# # X_test_scaled\n",
    "\n",
    "# y_train = y_train.reset_index(drop=True)\n",
    "# y_test = y_test.reset_index(drop=True)\n",
    "\n",
    "# # y_train\n",
    "# # y_test\n"
   ]
  },
  {
   "cell_type": "code",
   "execution_count": null,
   "id": "539b05c5",
   "metadata": {},
   "outputs": [],
   "source": [
    "# from sklearn.linear_model import LogisticRegression\n",
    "\n",
    "# LR_model = LogisticRegression(random_state=13, solver=\"lbfgs\")\n",
    "# LR_model_scaled = LR_model.fit(X_train_scaled, y_train)\n",
    "\n",
    "# LR_model_scaled.score(X_test_scaled, y_test)\n"
   ]
  },
  {
   "cell_type": "code",
   "execution_count": null,
   "id": "90713043",
   "metadata": {},
   "outputs": [],
   "source": [
    "# from sklearn.metrics import precision_score\n",
    "# from sklearn.metrics import recall_score\n",
    "# from sklearn.metrics import f1_score\n",
    "\n",
    "# prediction = LR_model_scaled.predict(X_test_scaled)\n",
    "\n",
    "# print(\"prediction_precision: \", precision_score(y_test, prediction))\n",
    "# print(\"prediction_recall: \", recall_score(y_test, prediction))\n",
    "# print(\"prediction_f1: \", f1_score(y_test, prediction))\n"
   ]
  },
  {
   "cell_type": "code",
   "execution_count": null,
   "id": "01bf0c4f",
   "metadata": {},
   "outputs": [],
   "source": [
    "# from sklearn.metrics import confusion_matrix\n",
    "\n",
    "# confusion_matrix(y_test, prediction)\n"
   ]
  },
  {
   "cell_type": "code",
   "execution_count": null,
   "id": "295096c4",
   "metadata": {},
   "outputs": [],
   "source": [
    "# from sklearn.preprocessing import StandardScaler\n",
    "\n",
    "# X_train_standard_fitted = StandardScaler().fit(X_train)\n",
    "# X_train_scaled = pd.DataFrame(X_train_standard_fitted.transform(X_train), columns=X.columns)\n",
    "# X_test_scaled = pd.DataFrame(X_train_standard_fitted.transform(X_test), columns=X.columns)\n",
    "\n",
    "# # X_train_scaled\n",
    "# # X_test_scaled\n",
    "\n",
    "# y_train = y_train.reset_index(drop=True)\n",
    "# y_test = y_test.reset_index(drop=True)\n",
    "\n",
    "# # y_train\n",
    "# # y_test\n"
   ]
  },
  {
   "cell_type": "code",
   "execution_count": null,
   "id": "177cca66",
   "metadata": {},
   "outputs": [],
   "source": [
    "# from sklearn.linear_model import LogisticRegression\n",
    "\n",
    "# LR_model = LogisticRegression(random_state=13, solver=\"lbfgs\")\n",
    "# LR_model_scaled = LR_model.fit(X_train_scaled, y_train)\n",
    "\n",
    "# LR_model_scaled.score(X_test_scaled, y_test)\n"
   ]
  },
  {
   "cell_type": "code",
   "execution_count": null,
   "id": "1e59a5d0",
   "metadata": {},
   "outputs": [],
   "source": [
    "# from sklearn.metrics import precision_score\n",
    "# from sklearn.metrics import recall_score\n",
    "# from sklearn.metrics import f1_score\n",
    "\n",
    "# LR_model_prediction = LR_model_scaled.predict(X_test_scaled)\n",
    "\n",
    "# print(\"prediction_precision: \", precision_score(y_test, LR_model_prediction))\n",
    "# print(\"prediction_recall: \", recall_score(y_test, LR_model_prediction))\n",
    "# print(\"prediction_f1: \", f1_score(y_test, LR_model_prediction))\n"
   ]
  },
  {
   "cell_type": "code",
   "execution_count": null,
   "id": "22275668",
   "metadata": {},
   "outputs": [],
   "source": [
    "# from sklearn.metrics import confusion_matrix\n",
    "\n",
    "# confusion_matrix(y_test, LR_model_prediction)\n"
   ]
  },
  {
   "cell_type": "code",
   "execution_count": null,
   "id": "814004c1",
   "metadata": {},
   "outputs": [],
   "source": [
    "# from imblearn.over_sampling import SMOTE\n",
    "\n",
    "# SMOTE_sampled = SMOTE(random_state=13, k_neighbors=7)\n",
    "# X_train_SMOTE, y_train_SMOTE = SMOTE_sampled.fit_resample(X_train_scaled, y_train)\n",
    "\n",
    "# X_train_SMOTE.shape\n",
    "\n",
    "# LR_SMOTE = LogisticRegression(random_state=13, solver=\"lbfgs\")\n",
    "# LR_SMOTE.fit(X_train_SMOTE, y_train_SMOTE)\n",
    "# prediction_SMOTE = LR_SMOTE.predict(X_test_scaled)\n",
    "\n",
    "# print(\"SMOTE_precision: \", precision_score(y_test, prediction_SMOTE))\n",
    "# print(\"SMOTE_recall: \", recall_score(y_test, prediction_SMOTE))\n",
    "# print(\"SMOTE_f1: \", f1_score(y_test, prediction_SMOTE))\n"
   ]
  },
  {
   "cell_type": "code",
   "execution_count": null,
   "id": "0ef7fef7",
   "metadata": {},
   "outputs": [],
   "source": [
    "from sklearn.tree import DecisionTreeClassifier\n",
    "from sklearn.metrics import precision_score\n",
    "from sklearn.metrics import recall_score\n",
    "from sklearn.metrics import f1_score\n",
    "\n",
    "decision_tree = DecisionTreeClassifier(max_depth=10)\n",
    "decision_tree.fit(X_train, y_train)\n",
    "\n",
    "print(\"decision_tree_test data accuracy was: \", decision_tree.score(X_test, y_test))\n",
    "print(\"decision_tree_train data accuracy was: \", decision_tree.score(X_train, y_train))\n",
    "\n",
    "decision_tree_prediction = decision_tree.predict(X_test)\n",
    "\n",
    "print(\"decision_tree_precision: \", precision_score(y_test, decision_tree_prediction))\n",
    "print(\"decision_tree_recall: \", recall_score(y_test, decision_tree_prediction))\n",
    "print(\"decision_tree_f1: \", f1_score(y_test, decision_tree_prediction))\n"
   ]
  },
  {
   "cell_type": "code",
   "execution_count": null,
   "id": "cc35d060",
   "metadata": {},
   "outputs": [],
   "source": [
    "from sklearn.metrics import confusion_matrix\n",
    "\n",
    "confusion_matrix(y_test, decision_tree_prediction)\n"
   ]
  },
  {
   "cell_type": "code",
   "execution_count": null,
   "id": "8e6bf6bb",
   "metadata": {},
   "outputs": [],
   "source": [
    "# from numpy import mean\n",
    "# from numpy import std\n",
    "# from sklearn.model_selection import KFold\n",
    "# from sklearn.model_selection import cross_val_score\n",
    "\n",
    "# cross_validation = KFold(n_splits=13, random_state=13, shuffle=True)\n",
    "# cross_validation_score = cross_val_score(decision_tree, X, y, scoring=\"accuracy\", cv=cross_validation, n_jobs=-1)\n",
    "\n",
    "# print(\"Accuracy: %.3f (%.3f)\" % (mean(cross_validation_score), std(cross_validation_score)))\n"
   ]
  },
  {
   "cell_type": "code",
   "execution_count": null,
   "id": "94f95132",
   "metadata": {},
   "outputs": [],
   "source": [
    "import pickle\n",
    "\n",
    "pickle.dump(decision_tree, open(\"pt_Us_dEcIsIOn_trEE_mOdEl.p\", \"wb\"))\n"
   ]
  },
  {
   "cell_type": "code",
   "execution_count": null,
   "id": "08fd650f",
   "metadata": {},
   "outputs": [],
   "source": []
  }
 ],
 "metadata": {
  "kernelspec": {
   "display_name": "Python 3 (ipykernel)",
   "language": "python",
   "name": "python3"
  },
  "language_info": {
   "codemirror_mode": {
    "name": "ipython",
    "version": 3
   },
   "file_extension": ".py",
   "mimetype": "text/x-python",
   "name": "python",
   "nbconvert_exporter": "python",
   "pygments_lexer": "ipython3",
   "version": "3.11.5"
  }
 },
 "nbformat": 4,
 "nbformat_minor": 5
}
